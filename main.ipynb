{
 "cells": [
  {
   "cell_type": "code",
   "execution_count": null,
   "metadata": {
    "vscode": {
     "languageId": "r"
    }
   },
   "outputs": [],
   "source": [
    "require(\"pacman\")\n",
    "pacman::p_load(tidyverse, MatchIt, lmtest, sandwich, dplyr)"
   ]
  },
  {
   "cell_type": "markdown",
   "metadata": {},
   "source": [
    "# Abrir base"
   ]
  },
  {
   "cell_type": "code",
   "execution_count": 53,
   "metadata": {
    "vscode": {
     "languageId": "r"
    }
   },
   "outputs": [],
   "source": [
    "base <- read.table(\n",
    "        \"./data/microdados_enade_2018.txt\",\n",
    "        header = TRUE, sep=\";\", dec = \",\", \n",
    "        colClasses=c(DS_VT_ACE_OFG=\"character\",\n",
    "                        DS_VT_ACE_OCE=\"character\"),\n",
    "        stringsAsFactors=TRUE\n",
    "    )"
   ]
  },
  {
   "cell_type": "code",
   "execution_count": 57,
   "metadata": {
    "vscode": {
     "languageId": "r"
    }
   },
   "outputs": [],
   "source": [
    "baseLimpa <- filter(base, NT_CE > 1 )"
   ]
  },
  {
   "cell_type": "markdown",
   "metadata": {},
   "source": [
    "# Preparar variáveis"
   ]
  },
  {
   "cell_type": "code",
   "execution_count": 60,
   "metadata": {
    "vscode": {
     "languageId": "r"
    }
   },
   "outputs": [],
   "source": [
    "baseLimpa$isBolsistaPerm <- ifelse(baseLimpa$QE_I12 == \"A\", 0, 1)"
   ]
  },
  {
   "cell_type": "code",
   "execution_count": 61,
   "metadata": {
    "vscode": {
     "languageId": "r"
    }
   },
   "outputs": [],
   "source": [
    "model1 <- c(\n",
    "    \"CO_GRUPO\", # curso\n",
    "    \"CO_MODALIDADE\", # modalidade do curso (presencial/a distancia)\n",
    "    \"CO_UF_CURSO\", # UF doc curso\n",
    "    \"CO_CATEGAD\", # categoria adm\n",
    "    \"TP_SEXO\", # sexo do aluno\n",
    "    \"NU_IDADE\", # idade do aluno\n",
    "    \"QE_I01\", # estado civil\n",
    "    \"QE_I02\", # raça\n",
    "    \"QE_I04\", # escolarização pai\n",
    "    \"QE_I05\", # escolarização mãe\n",
    "    \"QE_I08\", # renda familiar\n",
    "    \"NT_CE\" # Nota componente específico\n",
    "    # \"isBolsistaPerm\" # se o aluno teve ou não bolsa permanência\n",
    ")"
   ]
  },
  {
   "cell_type": "markdown",
   "metadata": {},
   "source": [
    "# Descritivas"
   ]
  },
  {
   "cell_type": "markdown",
   "metadata": {},
   "source": [
    "# Realizar o matching"
   ]
  },
  {
   "cell_type": "code",
   "execution_count": 62,
   "metadata": {
    "vscode": {
     "languageId": "r"
    }
   },
   "outputs": [
    {
     "data": {
      "text/plain": [
       "\n",
       "Call:\n",
       "matchit(formula = reformulate(model1, response = \"isBolsistaPerm\"), \n",
       "    data = baseLimpa, method = \"nearest\", distance = \"glm\", replace = FALSE, \n",
       "    ratio = 1)\n",
       "\n",
       "Summary of Balance for All Data:\n",
       "              Means Treated Means Control Std. Mean Diff. Var. Ratio eCDF Mean\n",
       "distance             0.1789        0.0356          0.4472   168.8680    0.2337\n",
       "CO_GRUPO            73.4506       64.4602          0.0479     1.1581    0.0219\n",
       "CO_MODALIDADE        1.0754        1.1707         -0.3608     0.4927    0.0476\n",
       "CO_UF_CURSO         33.3478       34.5008         -0.1258     1.1156    0.0301\n",
       "CO_CATEGAD        8111.3604     8011.4408          0.0256     0.9545    0.0729\n",
       "TP_SEXOF             0.6191        0.6095          0.0198          .    0.0096\n",
       "TP_SEXOM             0.3809        0.3905         -0.0198          .    0.0096\n",
       "NU_IDADE            28.4479       29.0645         -0.0780     0.9280    0.0096\n",
       "QE_I01               0.1311        0.0000          0.3885          .    0.1311\n",
       "QE_I01A              0.6744        0.7092         -0.0743          .    0.0348\n",
       "QE_I01B              0.1401        0.2205         -0.2318          .    0.0804\n",
       "QE_I01C              0.0227        0.0329         -0.0686          .    0.0102\n",
       "QE_I01D              0.0025        0.0030         -0.0105          .    0.0005\n",
       "QE_I01E              0.0293        0.0344         -0.0304          .    0.0051\n",
       "QE_I02               0.1311        0.0000          0.3885          .    0.1311\n",
       "QE_I02A              0.3670        0.5438         -0.3668          .    0.1768\n",
       "QE_I02B              0.1313        0.0881          0.1280          .    0.0432\n",
       "QE_I02C              0.0192        0.0237         -0.0323          .    0.0044\n",
       "QE_I02D              0.3232        0.3237         -0.0009          .    0.0004\n",
       "QE_I02E              0.0067        0.0028          0.0480          .    0.0039\n",
       "QE_I02F              0.0214        0.0180          0.0232          .    0.0034\n",
       "QE_I04               0.1311        0.0000          0.3885          .    0.1311\n",
       "QE_I04A              0.0689        0.0818         -0.0510          .    0.0129\n",
       "QE_I04B              0.2768        0.2691          0.0172          .    0.0077\n",
       "QE_I04C              0.1540        0.1528          0.0033          .    0.0012\n",
       "QE_I04D              0.2640        0.3090         -0.1022          .    0.0451\n",
       "QE_I04E              0.0844        0.1385         -0.1947          .    0.0541\n",
       "QE_I04F              0.0208        0.0488         -0.1955          .    0.0279\n",
       "QE_I05               0.1311        0.0000          0.3885          .    0.1311\n",
       "QE_I05A              0.0374        0.0612         -0.1254          .    0.0238\n",
       "QE_I05B              0.2330        0.2286          0.0103          .    0.0044\n",
       "QE_I05C              0.1576        0.1543          0.0090          .    0.0033\n",
       "QE_I05D              0.2958        0.3306         -0.0763          .    0.0348\n",
       "QE_I05E              0.0988        0.1447         -0.1535          .    0.0458\n",
       "QE_I05F              0.0462        0.0806         -0.1637          .    0.0344\n",
       "QE_I08               0.1311        0.0000          0.3885          .    0.1311\n",
       "QE_I08A              0.2726        0.1886          0.1887          .    0.0840\n",
       "QE_I08B              0.2941        0.2735          0.0451          .    0.0206\n",
       "QE_I08C              0.1660        0.2182         -0.1402          .    0.0522\n",
       "QE_I08D              0.0671        0.1135         -0.1855          .    0.0464\n",
       "QE_I08E              0.0472        0.1153         -0.3210          .    0.0681\n",
       "QE_I08F              0.0187        0.0738         -0.4079          .    0.0552\n",
       "QE_I08G              0.0032        0.0171         -0.2448          .    0.0139\n",
       "NT_CE               42.4893       40.4144          0.1250     1.1589    0.0232\n",
       "              eCDF Max\n",
       "distance        0.3307\n",
       "CO_GRUPO        0.0888\n",
       "CO_MODALIDADE   0.0953\n",
       "CO_UF_CURSO     0.1361\n",
       "CO_CATEGAD      0.2998\n",
       "TP_SEXOF        0.0096\n",
       "TP_SEXOM        0.0096\n",
       "NU_IDADE        0.0522\n",
       "QE_I01          0.1311\n",
       "QE_I01A         0.0348\n",
       "QE_I01B         0.0804\n",
       "QE_I01C         0.0102\n",
       "QE_I01D         0.0005\n",
       "QE_I01E         0.0051\n",
       "QE_I02          0.1311\n",
       "QE_I02A         0.1768\n",
       "QE_I02B         0.0432\n",
       "QE_I02C         0.0044\n",
       "QE_I02D         0.0004\n",
       "QE_I02E         0.0039\n",
       "QE_I02F         0.0034\n",
       "QE_I04          0.1311\n",
       "QE_I04A         0.0129\n",
       "QE_I04B         0.0077\n",
       "QE_I04C         0.0012\n",
       "QE_I04D         0.0451\n",
       "QE_I04E         0.0541\n",
       "QE_I04F         0.0279\n",
       "QE_I05          0.1311\n",
       "QE_I05A         0.0238\n",
       "QE_I05B         0.0044\n",
       "QE_I05C         0.0033\n",
       "QE_I05D         0.0348\n",
       "QE_I05E         0.0458\n",
       "QE_I05F         0.0344\n",
       "QE_I08          0.1311\n",
       "QE_I08A         0.0840\n",
       "QE_I08B         0.0206\n",
       "QE_I08C         0.0522\n",
       "QE_I08D         0.0464\n",
       "QE_I08E         0.0681\n",
       "QE_I08F         0.0552\n",
       "QE_I08G         0.0139\n",
       "NT_CE           0.0671\n",
       "\n",
       "Summary of Balance for Matched Data:\n",
       "              Means Treated Means Control Std. Mean Diff. Var. Ratio eCDF Mean\n",
       "distance             0.1789        0.0655          0.3539    62.4115    0.0009\n",
       "CO_GRUPO            73.4506       87.6333         -0.0755     0.7772    0.0178\n",
       "CO_MODALIDADE        1.0754        1.0523          0.0876     1.4070    0.0116\n",
       "CO_UF_CURSO         33.3478       32.5707          0.0848     1.0387    0.0155\n",
       "CO_CATEGAD        8111.3604     8223.4154         -0.0287     1.0419    0.0751\n",
       "TP_SEXOF             0.6191        0.6248         -0.0118          .    0.0057\n",
       "TP_SEXOM             0.3809        0.3752          0.0118          .    0.0057\n",
       "NU_IDADE            28.4479       28.1599          0.0365     1.1465    0.0057\n",
       "QE_I01               0.1311        0.0000          0.3885          .    0.1311\n",
       "QE_I01A              0.6744        0.7917         -0.2504          .    0.1173\n",
       "QE_I01B              0.1401        0.1489         -0.0255          .    0.0089\n",
       "QE_I01C              0.0227        0.0238         -0.0077          .    0.0011\n",
       "QE_I01D              0.0025        0.0032         -0.0146          .    0.0007\n",
       "QE_I01E              0.0293        0.0324         -0.0182          .    0.0031\n",
       "QE_I02               0.1311        0.0000          0.3885          .    0.1311\n",
       "QE_I02A              0.3670        0.3581          0.0185          .    0.0089\n",
       "QE_I02B              0.1313        0.2177         -0.2558          .    0.0864\n",
       "QE_I02C              0.0192        0.0206         -0.0099          .    0.0014\n",
       "QE_I02D              0.3232        0.3507         -0.0587          .    0.0275\n",
       "QE_I02E              0.0067        0.0219         -0.1862          .    0.0152\n",
       "QE_I02F              0.0214        0.0310         -0.0667          .    0.0096\n",
       "QE_I04               0.1311        0.0000          0.3885          .    0.1311\n",
       "QE_I04A              0.0689        0.0767         -0.0306          .    0.0078\n",
       "QE_I04B              0.2768        0.3452         -0.1529          .    0.0684\n",
       "QE_I04C              0.1540        0.1828         -0.0798          .    0.0288\n",
       "QE_I04D              0.2640        0.2843         -0.0462          .    0.0204\n",
       "QE_I04E              0.0844        0.0879         -0.0129          .    0.0036\n",
       "QE_I04F              0.0208        0.0230         -0.0153          .    0.0022\n",
       "QE_I05               0.1311        0.0000          0.3885          .    0.1311\n",
       "QE_I05A              0.0374        0.0344          0.0157          .    0.0030\n",
       "QE_I05B              0.2330        0.2901         -0.1351          .    0.0571\n",
       "QE_I05C              0.1576        0.1917         -0.0938          .    0.0342\n",
       "QE_I05D              0.2958        0.3274         -0.0691          .    0.0315\n",
       "QE_I05E              0.0988        0.1082         -0.0314          .    0.0094\n",
       "QE_I05F              0.0462        0.0481         -0.0092          .    0.0019\n",
       "QE_I08               0.1311        0.0000          0.3885          .    0.1311\n",
       "QE_I08A              0.2726        0.3930         -0.2704          .    0.1204\n",
       "QE_I08B              0.2941        0.3040         -0.0218          .    0.0100\n",
       "QE_I08C              0.1660        0.1620          0.0108          .    0.0040\n",
       "QE_I08D              0.0671        0.0667          0.0017          .    0.0004\n",
       "QE_I08E              0.0472        0.0471          0.0005          .    0.0001\n",
       "QE_I08F              0.0187        0.0230         -0.0323          .    0.0044\n",
       "QE_I08G              0.0032        0.0042         -0.0165          .    0.0009\n",
       "NT_CE               42.4893       45.8404         -0.2018     1.0325    0.0368\n",
       "              eCDF Max Std. Pair Dist.\n",
       "distance        0.1313          0.3539\n",
       "CO_GRUPO        0.0385          0.6766\n",
       "CO_MODALIDADE   0.0231          0.3184\n",
       "CO_UF_CURSO     0.0489          1.0702\n",
       "CO_CATEGAD      0.3007          0.7660\n",
       "TP_SEXOF        0.0057          0.9598\n",
       "TP_SEXOM        0.0057          0.9598\n",
       "NU_IDADE        0.0223          0.9444\n",
       "QE_I01          0.1311          0.3885\n",
       "QE_I01A         0.1173          0.8581\n",
       "QE_I01B         0.0089          0.6585\n",
       "QE_I01C         0.0011          0.3067\n",
       "QE_I01D         0.0007          0.1147\n",
       "QE_I01E         0.0031          0.3576\n",
       "QE_I02          0.1311          0.3885\n",
       "QE_I02A         0.0089          0.7490\n",
       "QE_I02B         0.0864          0.8152\n",
       "QE_I02C         0.0014          0.2838\n",
       "QE_I02D         0.0275          0.8973\n",
       "QE_I02E         0.0152          0.3482\n",
       "QE_I02F         0.0096          0.3506\n",
       "QE_I04          0.1311          0.3885\n",
       "QE_I04A         0.0078          0.5341\n",
       "QE_I04B         0.0684          0.9637\n",
       "QE_I04C         0.0288          0.7810\n",
       "QE_I04D         0.0204          0.8680\n",
       "QE_I04E         0.0036          0.5427\n",
       "QE_I04F         0.0022          0.2874\n",
       "QE_I05          0.1311          0.3885\n",
       "QE_I05A         0.0030          0.3545\n",
       "QE_I05B         0.0571          0.9308\n",
       "QE_I05C         0.0342          0.7997\n",
       "QE_I05D         0.0315          0.9211\n",
       "QE_I05E         0.0094          0.6100\n",
       "QE_I05F         0.0019          0.4182\n",
       "QE_I08          0.1311          0.3885\n",
       "QE_I08A         0.1204          0.8531\n",
       "QE_I08B         0.0100          0.8075\n",
       "QE_I08C         0.0040          0.6398\n",
       "QE_I08D         0.0004          0.4469\n",
       "QE_I08E         0.0001          0.3439\n",
       "QE_I08F         0.0044          0.2249\n",
       "QE_I08G         0.0009          0.1249\n",
       "NT_CE           0.0837          1.0946\n",
       "\n",
       "Sample Sizes:\n",
       "          Control Treated\n",
       "All        442206   19193\n",
       "Matched     19193   19193\n",
       "Unmatched  423013       0\n",
       "Discarded       0       0\n"
      ]
     },
     "metadata": {},
     "output_type": "display_data"
    }
   ],
   "source": [
    "match_obj <- matchit(\n",
    "    reformulate(model1, response = 'isBolsistaPerm'),\n",
    "    data = baseLimpa, method = \"nearest\", distance =\"glm\",\n",
    "    ratio = 1,\n",
    "    replace = FALSE\n",
    ")\n",
    "summary(match_obj)"
   ]
  },
  {
   "cell_type": "markdown",
   "metadata": {},
   "source": [
    "#  Regressão"
   ]
  },
  {
   "cell_type": "code",
   "execution_count": 63,
   "metadata": {
    "vscode": {
     "languageId": "r"
    }
   },
   "outputs": [],
   "source": [
    "#Extract the matched data and save the data into the variable matched_data\n",
    "matched_data <- match.data(match_obj)\n",
    "#Run regression model with psychological distress as the outcome, and smoker as the only predictor\n",
    "#We need to specify the weights - Matched participants have a weight of 1, unmatched participants \n",
    "res <- lm(NT_CE ~ isBolsistaPerm, data = matched_data, weights = weights)"
   ]
  },
  {
   "cell_type": "code",
   "execution_count": 64,
   "metadata": {
    "vscode": {
     "languageId": "r"
    }
   },
   "outputs": [
    {
     "data": {
      "text/plain": [
       "\n",
       "t test of coefficients:\n",
       "\n",
       "               Estimate Std. Error t value  Pr(>|t|)    \n",
       "(Intercept)    45.84036    0.11796 388.624 < 2.2e-16 ***\n",
       "isBolsistaPerm -3.35103    0.16106 -20.807 < 2.2e-16 ***\n",
       "---\n",
       "Signif. codes:  0 ‘***’ 0.001 ‘**’ 0.01 ‘*’ 0.05 ‘.’ 0.1 ‘ ’ 1\n"
      ]
     },
     "metadata": {},
     "output_type": "display_data"
    }
   ],
   "source": [
    "#Test the coefficient using cluster robust standard error\n",
    "coeftest(res, vcov. = vcovCL, cluster = ~subclass)"
   ]
  },
  {
   "cell_type": "code",
   "execution_count": 65,
   "metadata": {
    "vscode": {
     "languageId": "r"
    }
   },
   "outputs": [
    {
     "data": {
      "text/html": [
       "<table class=\"dataframe\">\n",
       "<caption>A matrix: 2 × 2 of type dbl</caption>\n",
       "<thead>\n",
       "\t<tr><th></th><th scope=col>2.5 %</th><th scope=col>97.5 %</th></tr>\n",
       "</thead>\n",
       "<tbody>\n",
       "\t<tr><th scope=row>(Intercept)</th><td>45.609168</td><td>46.071560</td></tr>\n",
       "\t<tr><th scope=row>isBolsistaPerm</th><td>-3.666703</td><td>-3.035355</td></tr>\n",
       "</tbody>\n",
       "</table>\n"
      ],
      "text/latex": [
       "A matrix: 2 × 2 of type dbl\n",
       "\\begin{tabular}{r|ll}\n",
       "  & 2.5 \\% & 97.5 \\%\\\\\n",
       "\\hline\n",
       "\t(Intercept) & 45.609168 & 46.071560\\\\\n",
       "\tisBolsistaPerm & -3.666703 & -3.035355\\\\\n",
       "\\end{tabular}\n"
      ],
      "text/markdown": [
       "\n",
       "A matrix: 2 × 2 of type dbl\n",
       "\n",
       "| <!--/--> | 2.5 % | 97.5 % |\n",
       "|---|---|---|\n",
       "| (Intercept) | 45.609168 | 46.071560 |\n",
       "| isBolsistaPerm | -3.666703 | -3.035355 |\n",
       "\n"
      ],
      "text/plain": [
       "               2.5 %     97.5 %   \n",
       "(Intercept)    45.609168 46.071560\n",
       "isBolsistaPerm -3.666703 -3.035355"
      ]
     },
     "metadata": {},
     "output_type": "display_data"
    }
   ],
   "source": [
    "#Calculate the confidence intervals based on cluster robust standard error\n",
    "coefci(res, vcov. = vcovCL, cluster = ~subclass, level = 0.95)"
   ]
  }
 ],
 "metadata": {
  "kernelspec": {
   "display_name": "R",
   "language": "R",
   "name": "ir"
  },
  "language_info": {
   "codemirror_mode": "r",
   "file_extension": ".r",
   "mimetype": "text/x-r-source",
   "name": "R",
   "pygments_lexer": "r",
   "version": "4.1.2"
  },
  "orig_nbformat": 4
 },
 "nbformat": 4,
 "nbformat_minor": 2
}
